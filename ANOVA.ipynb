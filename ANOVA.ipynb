{
 "cells": [
  {
   "cell_type": "markdown",
   "id": "01190aa3",
   "metadata": {},
   "source": [
    "# ANOVA=Analysis of variance"
   ]
  },
  {
   "cell_type": "markdown",
   "id": "2d0b0f37",
   "metadata": {},
   "source": [
    "### What is ANONA Test?"
   ]
  },
  {
   "cell_type": "markdown",
   "id": "c6da5657",
   "metadata": {},
   "source": [
    " An Analysis of variance-ANOVA is a test that is used to test whether there exist statistically significant difference between the mean values of more than two groups."
   ]
  },
  {
   "cell_type": "markdown",
   "id": "05b52e53",
   "metadata": {},
   "source": [
    "### Assumptions for the ANOVA hypothesis test"
   ]
  },
  {
   "cell_type": "markdown",
   "id": "834dc550",
   "metadata": {},
   "source": [
    "1. Sample data are randomly selected from populations and randomly assigned to each of the treatment groups. Each observation is thus independent of any other observation — randomness and independence."
   ]
  },
  {
   "cell_type": "markdown",
   "id": "769a9739",
   "metadata": {},
   "source": [
    "2. Normality. Values in each sampled groups are assumed to be drawn from normally distributed populations. We can use normal probability plot or Q-Q plot to check normality."
   ]
  },
  {
   "cell_type": "markdown",
   "id": "a51f16d6",
   "metadata": {},
   "source": [
    "3. Homogeneity of variance. All the c group variances are equal, that is σ₁² = σ₂² = σ₃² = … = σ𝒸². As a rule of thumb, if the ratio of the largest to the smallest sample standard deviation is less than 2, we consider the equal standard deviations assumption as fulfilled."
   ]
  },
  {
   "cell_type": "markdown",
   "id": "64af90da",
   "metadata": {},
   "source": [
    "## The simple outline of  ANOVA test:"
   ]
  },
  {
   "cell_type": "markdown",
   "id": "0518e207",
   "metadata": {},
   "source": [
    "F test for differences in more than two means\n",
    "\n",
    "H₀: μ₁= μ₂ = μ₃ = … = μ𝒸\n",
    "\n",
    "H₁: Not all μᵢ’s are equal, where i = 1, 2, 3, …, c.\n",
    "\n",
    "Level of significance = α"
   ]
  },
  {
   "cell_type": "raw",
   "id": "7d537802",
   "metadata": {},
   "source": [
    "Given a soil dataset , we want to test where there exist statistically significant association between soil pH value, Depth and contour"
   ]
  },
  {
   "cell_type": "code",
   "execution_count": 1,
   "id": "74f26eb1",
   "metadata": {},
   "outputs": [
    {
     "data": {
      "text/html": [
       "<div>\n",
       "<style scoped>\n",
       "    .dataframe tbody tr th:only-of-type {\n",
       "        vertical-align: middle;\n",
       "    }\n",
       "\n",
       "    .dataframe tbody tr th {\n",
       "        vertical-align: top;\n",
       "    }\n",
       "\n",
       "    .dataframe thead th {\n",
       "        text-align: right;\n",
       "    }\n",
       "</style>\n",
       "<table border=\"1\" class=\"dataframe\">\n",
       "  <thead>\n",
       "    <tr style=\"text-align: right;\">\n",
       "      <th></th>\n",
       "      <th>Unnamed: 0</th>\n",
       "      <th>Group</th>\n",
       "      <th>Contour</th>\n",
       "      <th>Depth</th>\n",
       "      <th>Gp</th>\n",
       "      <th>Block</th>\n",
       "      <th>pH</th>\n",
       "      <th>N</th>\n",
       "      <th>Dens</th>\n",
       "      <th>P</th>\n",
       "      <th>Ca</th>\n",
       "      <th>Mg</th>\n",
       "      <th>K</th>\n",
       "      <th>Na</th>\n",
       "      <th>Conduc</th>\n",
       "    </tr>\n",
       "  </thead>\n",
       "  <tbody>\n",
       "    <tr>\n",
       "      <th>0</th>\n",
       "      <td>1</td>\n",
       "      <td>1</td>\n",
       "      <td>Top</td>\n",
       "      <td>0-10</td>\n",
       "      <td>T0</td>\n",
       "      <td>1</td>\n",
       "      <td>5.40</td>\n",
       "      <td>0.188</td>\n",
       "      <td>0.92</td>\n",
       "      <td>215</td>\n",
       "      <td>16.35</td>\n",
       "      <td>7.65</td>\n",
       "      <td>0.72</td>\n",
       "      <td>1.14</td>\n",
       "      <td>1.09</td>\n",
       "    </tr>\n",
       "    <tr>\n",
       "      <th>1</th>\n",
       "      <td>2</td>\n",
       "      <td>1</td>\n",
       "      <td>Top</td>\n",
       "      <td>0-10</td>\n",
       "      <td>T0</td>\n",
       "      <td>2</td>\n",
       "      <td>5.65</td>\n",
       "      <td>0.165</td>\n",
       "      <td>1.04</td>\n",
       "      <td>208</td>\n",
       "      <td>12.25</td>\n",
       "      <td>5.15</td>\n",
       "      <td>0.71</td>\n",
       "      <td>0.94</td>\n",
       "      <td>1.35</td>\n",
       "    </tr>\n",
       "    <tr>\n",
       "      <th>2</th>\n",
       "      <td>3</td>\n",
       "      <td>1</td>\n",
       "      <td>Top</td>\n",
       "      <td>0-10</td>\n",
       "      <td>T0</td>\n",
       "      <td>3</td>\n",
       "      <td>5.14</td>\n",
       "      <td>0.260</td>\n",
       "      <td>0.95</td>\n",
       "      <td>300</td>\n",
       "      <td>13.02</td>\n",
       "      <td>5.68</td>\n",
       "      <td>0.68</td>\n",
       "      <td>0.60</td>\n",
       "      <td>1.41</td>\n",
       "    </tr>\n",
       "    <tr>\n",
       "      <th>3</th>\n",
       "      <td>4</td>\n",
       "      <td>1</td>\n",
       "      <td>Top</td>\n",
       "      <td>0-10</td>\n",
       "      <td>T0</td>\n",
       "      <td>4</td>\n",
       "      <td>5.14</td>\n",
       "      <td>0.169</td>\n",
       "      <td>1.10</td>\n",
       "      <td>248</td>\n",
       "      <td>11.92</td>\n",
       "      <td>7.88</td>\n",
       "      <td>1.09</td>\n",
       "      <td>1.01</td>\n",
       "      <td>1.64</td>\n",
       "    </tr>\n",
       "    <tr>\n",
       "      <th>4</th>\n",
       "      <td>5</td>\n",
       "      <td>2</td>\n",
       "      <td>Top</td>\n",
       "      <td>10-30</td>\n",
       "      <td>T1</td>\n",
       "      <td>1</td>\n",
       "      <td>5.14</td>\n",
       "      <td>0.164</td>\n",
       "      <td>1.12</td>\n",
       "      <td>174</td>\n",
       "      <td>14.17</td>\n",
       "      <td>8.12</td>\n",
       "      <td>0.70</td>\n",
       "      <td>2.17</td>\n",
       "      <td>1.85</td>\n",
       "    </tr>\n",
       "  </tbody>\n",
       "</table>\n",
       "</div>"
      ],
      "text/plain": [
       "   Unnamed: 0  Group Contour  Depth  Gp  Block    pH      N  Dens    P     Ca  \\\n",
       "0           1      1     Top   0-10  T0      1  5.40  0.188  0.92  215  16.35   \n",
       "1           2      1     Top   0-10  T0      2  5.65  0.165  1.04  208  12.25   \n",
       "2           3      1     Top   0-10  T0      3  5.14  0.260  0.95  300  13.02   \n",
       "3           4      1     Top   0-10  T0      4  5.14  0.169  1.10  248  11.92   \n",
       "4           5      2     Top  10-30  T1      1  5.14  0.164  1.12  174  14.17   \n",
       "\n",
       "     Mg     K    Na  Conduc  \n",
       "0  7.65  0.72  1.14    1.09  \n",
       "1  5.15  0.71  0.94    1.35  \n",
       "2  5.68  0.68  0.60    1.41  \n",
       "3  7.88  1.09  1.01    1.64  \n",
       "4  8.12  0.70  2.17    1.85  "
      ]
     },
     "execution_count": 1,
     "metadata": {},
     "output_type": "execute_result"
    }
   ],
   "source": [
    "import pandas as pd\n",
    "import statsmodels.api as sm\n",
    "from statsmodels.formula.api import ols\n",
    "import scipy.stats as stats\n",
    "import matplotlib.pyplot as plt\n",
    "#from matplotlib import pyplot as plt\n",
    "df=pd.read_csv('E:/PYTHON_PROJECTS/data/NEW_DATA/Soils.csv')\n",
    "df.head(5)\n"
   ]
  },
  {
   "cell_type": "markdown",
   "id": "c19ec6c7",
   "metadata": {},
   "source": [
    "## Cleaning the dataset"
   ]
  },
  {
   "cell_type": "markdown",
   "id": "1c0c61da",
   "metadata": {},
   "source": [
    "Check if there exist nul values"
   ]
  },
  {
   "cell_type": "code",
   "execution_count": 2,
   "id": "691f00ef",
   "metadata": {},
   "outputs": [
    {
     "name": "stdout",
     "output_type": "stream",
     "text": [
      "Unnamed: 0    0\n",
      "Group         0\n",
      "Contour       0\n",
      "Depth         0\n",
      "Gp            0\n",
      "Block         0\n",
      "pH            0\n",
      "N             0\n",
      "Dens          0\n",
      "P             0\n",
      "Ca            0\n",
      "Mg            0\n",
      "K             0\n",
      "Na            0\n",
      "Conduc        0\n",
      "dtype: int64\n"
     ]
    }
   ],
   "source": [
    "print(df.isnull().sum())"
   ]
  },
  {
   "cell_type": "markdown",
   "id": "45e804f2",
   "metadata": {},
   "source": [
    "## Relationship Between Depth, Contour and pH Value"
   ]
  },
  {
   "cell_type": "code",
   "execution_count": 18,
   "id": "431ce9d2",
   "metadata": {
    "scrolled": true
   },
   "outputs": [
    {
     "name": "stdout",
     "output_type": "stream",
     "text": [
      "                 df     sum_sq   mean_sq          F        PR(>F)\n",
      "Depth           3.0  14.958973  4.986324  32.758220  2.162122e-10\n",
      "Contour         2.0   0.260663  0.130331   0.856226  4.332307e-01\n",
      "Depth:Contour   6.0   0.515871  0.085978   0.564845  7.553304e-01\n",
      "Residual       36.0   5.479775  0.152216        NaN           NaN\n",
      "#conclusion\n",
      "Depth :  p-value is less than the alpha value,hence  Reject null hypothesis\n",
      "Contour : p-value is greater than alpha value,hence Accept Null hypothesis\n",
      "Depth:Contour :  p-value is greater than the alpha value,hence Accept Null hypothesis\n"
     ]
    }
   ],
   "source": [
    "mod1 = ols('pH~Depth+Contour + Depth*Contour',data=df).fit()\n",
    "aov1 = sm.stats.anova_lm(mod1, type=2)\n",
    "print (aov1)\n",
    "\n",
    "print(\"#conclusion\")\n",
    "alpha=0.05\n",
    "if aov1['PR(>F)']['Depth'] <= alpha:\n",
    "    conclusion = \"Depth :  p-value is less than the alpha value,hence  Reject null hypothesis\"\n",
    "    \n",
    "if aov1['PR(>F)']['Depth'] > alpha:\n",
    "     conclusion = \"Depth :  p-value is greater than the alpha value,hence Accept Null hypothesis\"\n",
    "print (conclusion)\n",
    "if aov1['PR(>F)']['Contour'] <= alpha:\n",
    "    conclusion2 = \"Contour :p-value is less than the alpha value,hence Reject null hypothesis\"\n",
    "    \n",
    "if aov1['PR(>F)']['Contour'] > alpha:\n",
    "     conclusion2 = \"Contour : p-value is greater than alpha value,hence Accept Null hypothesis\"\n",
    "print (conclusion2)\n",
    "if aov1['PR(>F)']['Depth:Contour'] <= alpha:\n",
    "    conclusion2 = \"Depth:Contour :  p-value is less than the alpha value,hence  Reject null hypothesis\"\n",
    "    \n",
    "if aov1['PR(>F)']['Depth:Contour'] > alpha:\n",
    "     conclusion2 = \"Depth:Contour :  p-value is greater than the alpha value,hence Accept Null hypothesis\"\n",
    "print (conclusion2)"
   ]
  },
  {
   "cell_type": "markdown",
   "id": "c1c55a2d",
   "metadata": {},
   "source": [
    "## Conclusion"
   ]
  },
  {
   "cell_type": "markdown",
   "id": "bbeb5d88",
   "metadata": {},
   "source": [
    "In the case of Depth, the p-value is smaller than the critical value of 0.05.Therefore we can conclude that there is statisticaly significant association of Depth on the Soil pH value"
   ]
  },
  {
   "cell_type": "markdown",
   "id": "cce46537",
   "metadata": {},
   "source": [
    "In the case of Contour, the p value is greater than the critical value of 0.05. Therefore, we can conclude that there is no statisticaly significant association of Contour on the Soil pH value."
   ]
  },
  {
   "cell_type": "markdown",
   "id": "c198d058",
   "metadata": {},
   "source": [
    "In the case of intercept of Depth and Contour,the p value is greater than the critical value of 0.05. Therefore,\n",
    "we can conclude that there is no statisticaly significant association between intercept of Depth and Contour on the Soil pH value."
   ]
  }
 ],
 "metadata": {
  "kernelspec": {
   "display_name": "Python 3 (ipykernel)",
   "language": "python",
   "name": "python3"
  },
  "language_info": {
   "codemirror_mode": {
    "name": "ipython",
    "version": 3
   },
   "file_extension": ".py",
   "mimetype": "text/x-python",
   "name": "python",
   "nbconvert_exporter": "python",
   "pygments_lexer": "ipython3",
   "version": "3.9.7"
  }
 },
 "nbformat": 4,
 "nbformat_minor": 5
}
